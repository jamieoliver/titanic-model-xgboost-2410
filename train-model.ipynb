{
 "cells": [
  {
   "cell_type": "markdown",
   "metadata": {},
   "source": [
    "# Titanic: Survival Model (XGBoost Version)\n",
    "\n",
    "Build and train an XGBoost model to predict survival on the Titanic using a [cleaned and split dataset](https://huggingface.co/datasets/jamieoliver/titanic-2410), and upload the model to Hugging Face.\n",
    "\n",
    "Based on https://github.com/jamieoliver/titanic-model-2410.\n",
    "\n",
    "## Plan\n",
    "- [ ] Download [cleaned and split dataset](https://huggingface.co/datasets/jamieoliver/titanic-2410) from Hugging Face\n",
    "- [ ] Prepare data for model\n",
    "- [ ] Build and train initial model\n",
    "- [ ] Tune model hyperparameters\n",
    "- [ ] Test final model\n",
    "- [ ] Upload model to Hugging Face"
   ]
  }
 ],
 "metadata": {
  "kernelspec": {
   "display_name": "Python 3 (ipykernel)",
   "language": "python",
   "name": "python3"
  }
 },
 "nbformat": 4,
 "nbformat_minor": 2
}
