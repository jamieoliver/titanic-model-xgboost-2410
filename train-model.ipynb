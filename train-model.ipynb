{
 "cells": [
  {
   "cell_type": "markdown",
   "metadata": {},
   "source": [
    "# Titanic: Survival Model (XGBoost Version)\n",
    "\n",
    "Build and train an XGBoost model to predict survival on the Titanic using a [cleaned and split dataset](https://huggingface.co/datasets/jamieoliver/titanic-2410), and upload the model to Hugging Face.\n",
    "\n",
    "Based on https://github.com/jamieoliver/titanic-model-2410.\n",
    "\n",
    "## Plan\n",
    "- [x] Download [cleaned and split dataset](https://huggingface.co/datasets/jamieoliver/titanic-2410) from Hugging Face\n",
    "- [x] Prepare data for model\n",
    "  - [x] Load dataset splits as Pandas DataFrames\n",
    "- [ ] Build and train initial model\n",
    "- [ ] Tune model hyperparameters\n",
    "- [ ] Test final model\n",
    "- [ ] Upload model to Hugging Face"
   ]
  },
  {
   "cell_type": "markdown",
   "metadata": {},
   "source": [
    "## Download Cleaned and Split Dataset From Hugging Face"
   ]
  },
  {
   "cell_type": "code",
   "execution_count": 1,
   "metadata": {},
   "outputs": [
    {
     "data": {
      "text/plain": [
       "DatasetDict({\n",
       "    train: Dataset({\n",
       "        features: ['survived', 'name', 'age', 'sibsp', 'parch', 'ticket', 'fare', 'cabin', 'log_fare', 'pclass_1', 'pclass_2', 'pclass_3', 'sex_female', 'sex_male', 'embarked_C', 'embarked_Q', 'embarked_S'],\n",
       "        num_rows: 1047\n",
       "    })\n",
       "    validation: Dataset({\n",
       "        features: ['survived', 'name', 'age', 'sibsp', 'parch', 'ticket', 'fare', 'cabin', 'log_fare', 'pclass_1', 'pclass_2', 'pclass_3', 'sex_female', 'sex_male', 'embarked_C', 'embarked_Q', 'embarked_S'],\n",
       "        num_rows: 131\n",
       "    })\n",
       "    test: Dataset({\n",
       "        features: ['survived', 'name', 'age', 'sibsp', 'parch', 'ticket', 'fare', 'cabin', 'log_fare', 'pclass_1', 'pclass_2', 'pclass_3', 'sex_female', 'sex_male', 'embarked_C', 'embarked_Q', 'embarked_S'],\n",
       "        num_rows: 131\n",
       "    })\n",
       "})"
      ]
     },
     "execution_count": 1,
     "metadata": {},
     "output_type": "execute_result"
    }
   ],
   "source": [
    "from datasets import *\n",
    "\n",
    "datasetDict = load_dataset('jamieoliver/titanic-2410')\n",
    "datasetDict"
   ]
  },
  {
   "cell_type": "markdown",
   "metadata": {},
   "source": [
    "## Prepare Data for Model"
   ]
  },
  {
   "cell_type": "markdown",
   "metadata": {},
   "source": [
    "### Load Dataset Splits as Pandas DataFrames"
   ]
  },
  {
   "cell_type": "markdown",
   "metadata": {},
   "source": [
    "The dependent variable is the variable we are predicting i.e. `survived`:"
   ]
  },
  {
   "cell_type": "code",
   "execution_count": 2,
   "metadata": {},
   "outputs": [
    {
     "data": {
      "text/plain": [
       "{'train': 0        True\n",
       " 1       False\n",
       " 2       False\n",
       " 3       False\n",
       " 4       False\n",
       "         ...  \n",
       " 1042     True\n",
       " 1043    False\n",
       " 1044     True\n",
       " 1045    False\n",
       " 1046    False\n",
       " Name: survived, Length: 1047, dtype: bool,\n",
       " 'validation': 0       True\n",
       " 1      False\n",
       " 2      False\n",
       " 3       True\n",
       " 4      False\n",
       "        ...  \n",
       " 126    False\n",
       " 127    False\n",
       " 128    False\n",
       " 129    False\n",
       " 130     True\n",
       " Name: survived, Length: 131, dtype: bool,\n",
       " 'test': 0       True\n",
       " 1      False\n",
       " 2      False\n",
       " 3      False\n",
       " 4      False\n",
       "        ...  \n",
       " 126    False\n",
       " 127    False\n",
       " 128     True\n",
       " 129    False\n",
       " 130     True\n",
       " Name: survived, Length: 131, dtype: bool}"
      ]
     },
     "execution_count": 2,
     "metadata": {},
     "output_type": "execute_result"
    }
   ],
   "source": [
    "dependent_var = {split: dataset.to_pandas()['survived'] for split, dataset in datasetDict.items()}\n",
    "dependent_var"
   ]
  },
  {
   "cell_type": "markdown",
   "metadata": {},
   "source": [
    "The independent variables are the variables we will use to make the prediction:"
   ]
  },
  {
   "cell_type": "code",
   "execution_count": 3,
   "metadata": {},
   "outputs": [
    {
     "data": {
      "text/plain": [
       "{'train':        age  sibsp  parch  log_fare  pclass_1  pclass_2  pclass_3  sex_female  \\\n",
       " 0      4.0      1      1  3.178054     False      True     False        True   \n",
       " 1     20.0      0      0  2.188856     False     False      True       False   \n",
       " 2     32.5      0      0  5.358942      True     False     False       False   \n",
       " 3     23.0      0      0  2.775447     False      True     False       False   \n",
       " 4     47.0      0      0  3.970292      True     False     False       False   \n",
       " ...    ...    ...    ...       ...       ...       ...       ...         ...   \n",
       " 1042  24.0      1      2  4.189655     False      True     False        True   \n",
       " 1043  24.0      0      0  2.775447     False      True     False       False   \n",
       " 1044  45.0      0      1  4.164466      True     False     False        True   \n",
       " 1045  24.0      1      0  2.738146     False     False      True        True   \n",
       " 1046  24.0      0      0  2.145931     False     False      True       False   \n",
       " \n",
       "       sex_male  embarked_C  embarked_Q  embarked_S  \n",
       " 0        False       False       False        True  \n",
       " 1         True       False       False        True  \n",
       " 2         True        True       False       False  \n",
       " 3         True        True       False       False  \n",
       " 4         True       False       False        True  \n",
       " ...        ...         ...         ...         ...  \n",
       " 1042     False       False       False        True  \n",
       " 1043      True        True       False       False  \n",
       " 1044     False        True       False       False  \n",
       " 1045     False        True       False       False  \n",
       " 1046      True       False       False        True  \n",
       " \n",
       " [1047 rows x 12 columns],\n",
       " 'validation':       age  sibsp  parch  log_fare  pclass_1  pclass_2  pclass_3  sex_female  \\\n",
       " 0    23.0      0      1  4.164466      True     False     False       False   \n",
       " 1    24.0      0      0  3.931826      True     False     False       False   \n",
       " 2    43.0      0      0  2.185579     False     False      True       False   \n",
       " 3    21.0      0      0  3.316003      True     False     False        True   \n",
       " 4    25.0      1      0  3.295837     False      True     False       False   \n",
       " ..    ...    ...    ...       ...       ...       ...       ...         ...   \n",
       " 126  30.5      0      0  2.169054     False     False      True        True   \n",
       " 127  33.0      0      0  2.585883     False      True     False       False   \n",
       " 128  28.0      0      0  2.185579     False     False      True       False   \n",
       " 129  46.0      0      0  4.384524      True     False     False       False   \n",
       " 130  18.0      0      2  2.639057     False      True     False        True   \n",
       " \n",
       "      sex_male  embarked_C  embarked_Q  embarked_S  \n",
       " 0        True        True       False       False  \n",
       " 1        True       False       False        True  \n",
       " 2        True       False       False        True  \n",
       " 3       False       False       False        True  \n",
       " 4        True       False       False        True  \n",
       " ..        ...         ...         ...         ...  \n",
       " 126     False       False        True       False  \n",
       " 127      True       False       False        True  \n",
       " 128      True       False       False        True  \n",
       " 129      True        True       False       False  \n",
       " 130     False       False       False        True  \n",
       " \n",
       " [131 rows x 12 columns],\n",
       " 'test':       age  sibsp  parch  log_fare  pclass_1  pclass_2  pclass_3  sex_female  \\\n",
       " 0    20.0      0      0  2.698841     False      True     False       False   \n",
       " 1    44.0      0      0  2.639057     False      True     False       False   \n",
       " 2    26.0      2      0  2.268252     False     False      True       False   \n",
       " 3    33.0      0      0  3.316003      True     False     False       False   \n",
       " 4    24.0      0      0  2.273414     False     False      True       False   \n",
       " ..    ...    ...    ...       ...       ...       ...       ...         ...   \n",
       " 126  63.0      1      0  3.295837     False      True     False       False   \n",
       " 127  28.0      0      0  2.202765     False     False      True       False   \n",
       " 128  22.0      0      1  4.142805      True     False     False        True   \n",
       " 129  24.0      0      0  2.185579     False     False      True       False   \n",
       " 130  24.0      0      0  2.169054     False     False      True       False   \n",
       " \n",
       "      sex_male  embarked_C  embarked_Q  embarked_S  \n",
       " 0        True        True       False       False  \n",
       " 1        True       False       False        True  \n",
       " 2        True       False       False        True  \n",
       " 3        True       False       False        True  \n",
       " 4        True        True       False       False  \n",
       " ..        ...         ...         ...         ...  \n",
       " 126      True       False       False        True  \n",
       " 127      True       False       False        True  \n",
       " 128     False        True       False       False  \n",
       " 129      True       False       False        True  \n",
       " 130      True       False        True       False  \n",
       " \n",
       " [131 rows x 12 columns]}"
      ]
     },
     "execution_count": 3,
     "metadata": {},
     "output_type": "execute_result"
    }
   ],
   "source": [
    "independent_cols = ['age', 'sibsp', 'parch', 'log_fare', 'pclass_1', 'pclass_2', 'pclass_3', 'sex_female', 'sex_male',\n",
    "                    'embarked_C', 'embarked_Q', 'embarked_S']\n",
    "\n",
    "independent_vars = {split: dataset.to_pandas()[independent_cols] for split, dataset in datasetDict.items()}\n",
    "independent_vars"
   ]
  }
 ],
 "metadata": {
  "kernelspec": {
   "display_name": "Python 3 (ipykernel)",
   "language": "python",
   "name": "python3"
  },
  "language_info": {
   "codemirror_mode": {
    "name": "ipython",
    "version": 3
   },
   "file_extension": ".py",
   "mimetype": "text/x-python",
   "name": "python",
   "nbconvert_exporter": "python",
   "pygments_lexer": "ipython3",
   "version": "3.10.12"
  }
 },
 "nbformat": 4,
 "nbformat_minor": 2
}
