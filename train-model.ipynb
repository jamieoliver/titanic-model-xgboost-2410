{
 "cells": [
  {
   "cell_type": "markdown",
   "metadata": {},
   "source": [
    "# Titanic: Survival Model (XGBoost Version)\n",
    "\n",
    "Build and train an XGBoost model to predict survival on the Titanic using a [cleaned and split dataset](https://huggingface.co/datasets/jamieoliver/titanic-2410), and upload the model to Hugging Face.\n",
    "\n",
    "Based on https://github.com/jamieoliver/titanic-model-2410.\n",
    "\n",
    "## Plan\n",
    "- [x] Download [cleaned and split dataset](https://huggingface.co/datasets/jamieoliver/titanic-2410) from Hugging Face\n",
    "- [x] Prepare data for model\n",
    "  - [x] Load dataset splits as Pandas DataFrames\n",
    "- [x] Build and train initial model\n",
    "- [x] Tune model hyperparameters\n",
    "- [ ] Test final model\n",
    "- [ ] Upload model to Hugging Face"
   ]
  },
  {
   "cell_type": "markdown",
   "metadata": {},
   "source": [
    "## Download Cleaned and Split Dataset From Hugging Face"
   ]
  },
  {
   "cell_type": "code",
   "execution_count": 1,
   "metadata": {},
   "outputs": [
    {
     "data": {
      "text/plain": [
       "DatasetDict({\n",
       "    train: Dataset({\n",
       "        features: ['survived', 'name', 'age', 'sibsp', 'parch', 'ticket', 'fare', 'cabin', 'log_fare', 'pclass_1', 'pclass_2', 'pclass_3', 'sex_female', 'sex_male', 'embarked_C', 'embarked_Q', 'embarked_S'],\n",
       "        num_rows: 1047\n",
       "    })\n",
       "    validation: Dataset({\n",
       "        features: ['survived', 'name', 'age', 'sibsp', 'parch', 'ticket', 'fare', 'cabin', 'log_fare', 'pclass_1', 'pclass_2', 'pclass_3', 'sex_female', 'sex_male', 'embarked_C', 'embarked_Q', 'embarked_S'],\n",
       "        num_rows: 131\n",
       "    })\n",
       "    test: Dataset({\n",
       "        features: ['survived', 'name', 'age', 'sibsp', 'parch', 'ticket', 'fare', 'cabin', 'log_fare', 'pclass_1', 'pclass_2', 'pclass_3', 'sex_female', 'sex_male', 'embarked_C', 'embarked_Q', 'embarked_S'],\n",
       "        num_rows: 131\n",
       "    })\n",
       "})"
      ]
     },
     "execution_count": 1,
     "metadata": {},
     "output_type": "execute_result"
    }
   ],
   "source": [
    "from datasets import *\n",
    "\n",
    "datasetDict = load_dataset('jamieoliver/titanic-2410')\n",
    "datasetDict"
   ]
  },
  {
   "cell_type": "markdown",
   "metadata": {},
   "source": [
    "## Prepare Data for Model"
   ]
  },
  {
   "cell_type": "markdown",
   "metadata": {},
   "source": [
    "### Load Dataset Splits as Pandas DataFrames"
   ]
  },
  {
   "cell_type": "markdown",
   "metadata": {},
   "source": [
    "The dependent variable is the variable we are predicting i.e. `survived`:"
   ]
  },
  {
   "cell_type": "code",
   "execution_count": 2,
   "metadata": {},
   "outputs": [
    {
     "data": {
      "text/plain": [
       "{'train': 0        True\n",
       " 1       False\n",
       " 2       False\n",
       " 3       False\n",
       " 4       False\n",
       "         ...  \n",
       " 1042     True\n",
       " 1043    False\n",
       " 1044     True\n",
       " 1045    False\n",
       " 1046    False\n",
       " Name: survived, Length: 1047, dtype: bool,\n",
       " 'validation': 0       True\n",
       " 1      False\n",
       " 2      False\n",
       " 3       True\n",
       " 4      False\n",
       "        ...  \n",
       " 126    False\n",
       " 127    False\n",
       " 128    False\n",
       " 129    False\n",
       " 130     True\n",
       " Name: survived, Length: 131, dtype: bool,\n",
       " 'test': 0       True\n",
       " 1      False\n",
       " 2      False\n",
       " 3      False\n",
       " 4      False\n",
       "        ...  \n",
       " 126    False\n",
       " 127    False\n",
       " 128     True\n",
       " 129    False\n",
       " 130     True\n",
       " Name: survived, Length: 131, dtype: bool}"
      ]
     },
     "execution_count": 2,
     "metadata": {},
     "output_type": "execute_result"
    }
   ],
   "source": [
    "dependent_var = {split: dataset.to_pandas()['survived'] for split, dataset in datasetDict.items()}\n",
    "dependent_var"
   ]
  },
  {
   "cell_type": "markdown",
   "metadata": {},
   "source": [
    "The independent variables are the variables we will use to make the prediction:"
   ]
  },
  {
   "cell_type": "code",
   "execution_count": 3,
   "metadata": {},
   "outputs": [
    {
     "data": {
      "text/plain": [
       "{'train':        age  sibsp  parch  log_fare  pclass_1  pclass_2  pclass_3  sex_female  \\\n",
       " 0      4.0      1      1  3.178054     False      True     False        True   \n",
       " 1     20.0      0      0  2.188856     False     False      True       False   \n",
       " 2     32.5      0      0  5.358942      True     False     False       False   \n",
       " 3     23.0      0      0  2.775447     False      True     False       False   \n",
       " 4     47.0      0      0  3.970292      True     False     False       False   \n",
       " ...    ...    ...    ...       ...       ...       ...       ...         ...   \n",
       " 1042  24.0      1      2  4.189655     False      True     False        True   \n",
       " 1043  24.0      0      0  2.775447     False      True     False       False   \n",
       " 1044  45.0      0      1  4.164466      True     False     False        True   \n",
       " 1045  24.0      1      0  2.738146     False     False      True        True   \n",
       " 1046  24.0      0      0  2.145931     False     False      True       False   \n",
       " \n",
       "       sex_male  embarked_C  embarked_Q  embarked_S  \n",
       " 0        False       False       False        True  \n",
       " 1         True       False       False        True  \n",
       " 2         True        True       False       False  \n",
       " 3         True        True       False       False  \n",
       " 4         True       False       False        True  \n",
       " ...        ...         ...         ...         ...  \n",
       " 1042     False       False       False        True  \n",
       " 1043      True        True       False       False  \n",
       " 1044     False        True       False       False  \n",
       " 1045     False        True       False       False  \n",
       " 1046      True       False       False        True  \n",
       " \n",
       " [1047 rows x 12 columns],\n",
       " 'validation':       age  sibsp  parch  log_fare  pclass_1  pclass_2  pclass_3  sex_female  \\\n",
       " 0    23.0      0      1  4.164466      True     False     False       False   \n",
       " 1    24.0      0      0  3.931826      True     False     False       False   \n",
       " 2    43.0      0      0  2.185579     False     False      True       False   \n",
       " 3    21.0      0      0  3.316003      True     False     False        True   \n",
       " 4    25.0      1      0  3.295837     False      True     False       False   \n",
       " ..    ...    ...    ...       ...       ...       ...       ...         ...   \n",
       " 126  30.5      0      0  2.169054     False     False      True        True   \n",
       " 127  33.0      0      0  2.585883     False      True     False       False   \n",
       " 128  28.0      0      0  2.185579     False     False      True       False   \n",
       " 129  46.0      0      0  4.384524      True     False     False       False   \n",
       " 130  18.0      0      2  2.639057     False      True     False        True   \n",
       " \n",
       "      sex_male  embarked_C  embarked_Q  embarked_S  \n",
       " 0        True        True       False       False  \n",
       " 1        True       False       False        True  \n",
       " 2        True       False       False        True  \n",
       " 3       False       False       False        True  \n",
       " 4        True       False       False        True  \n",
       " ..        ...         ...         ...         ...  \n",
       " 126     False       False        True       False  \n",
       " 127      True       False       False        True  \n",
       " 128      True       False       False        True  \n",
       " 129      True        True       False       False  \n",
       " 130     False       False       False        True  \n",
       " \n",
       " [131 rows x 12 columns],\n",
       " 'test':       age  sibsp  parch  log_fare  pclass_1  pclass_2  pclass_3  sex_female  \\\n",
       " 0    20.0      0      0  2.698841     False      True     False       False   \n",
       " 1    44.0      0      0  2.639057     False      True     False       False   \n",
       " 2    26.0      2      0  2.268252     False     False      True       False   \n",
       " 3    33.0      0      0  3.316003      True     False     False       False   \n",
       " 4    24.0      0      0  2.273414     False     False      True       False   \n",
       " ..    ...    ...    ...       ...       ...       ...       ...         ...   \n",
       " 126  63.0      1      0  3.295837     False      True     False       False   \n",
       " 127  28.0      0      0  2.202765     False     False      True       False   \n",
       " 128  22.0      0      1  4.142805      True     False     False        True   \n",
       " 129  24.0      0      0  2.185579     False     False      True       False   \n",
       " 130  24.0      0      0  2.169054     False     False      True       False   \n",
       " \n",
       "      sex_male  embarked_C  embarked_Q  embarked_S  \n",
       " 0        True        True       False       False  \n",
       " 1        True       False       False        True  \n",
       " 2        True       False       False        True  \n",
       " 3        True       False       False        True  \n",
       " 4        True        True       False       False  \n",
       " ..        ...         ...         ...         ...  \n",
       " 126      True       False       False        True  \n",
       " 127      True       False       False        True  \n",
       " 128     False        True       False       False  \n",
       " 129      True       False       False        True  \n",
       " 130      True       False        True       False  \n",
       " \n",
       " [131 rows x 12 columns]}"
      ]
     },
     "execution_count": 3,
     "metadata": {},
     "output_type": "execute_result"
    }
   ],
   "source": [
    "independent_cols = ['age', 'sibsp', 'parch', 'log_fare', 'pclass_1', 'pclass_2', 'pclass_3', 'sex_female', 'sex_male',\n",
    "                    'embarked_C', 'embarked_Q', 'embarked_S']\n",
    "\n",
    "independent_vars = {split: dataset.to_pandas()[independent_cols] for split, dataset in datasetDict.items()}\n",
    "independent_vars"
   ]
  },
  {
   "cell_type": "markdown",
   "metadata": {},
   "source": [
    "## Build and Train Initial Model"
   ]
  },
  {
   "cell_type": "code",
   "execution_count": 4,
   "metadata": {},
   "outputs": [],
   "source": [
    "import xgboost as xgb\n",
    "\n",
    "dtrain = xgb.DMatrix(independent_vars['train'], label=dependent_var['train'])\n",
    "dvalid = xgb.DMatrix(independent_vars['validation'], label=dependent_var['validation'])"
   ]
  },
  {
   "cell_type": "code",
   "execution_count": 5,
   "metadata": {},
   "outputs": [],
   "source": [
    "import numpy as np\n",
    "\n",
    "def accuracy(predictions, dtrain):\n",
    "  dependent_var = dtrain.get_label()\n",
    "  return 'accuracy', np.sum((predictions > 0.5) == dependent_var) / len(dependent_var)"
   ]
  },
  {
   "cell_type": "code",
   "execution_count": 6,
   "metadata": {},
   "outputs": [],
   "source": [
    "params = {'device': 'cuda',\n",
    "          'objective': 'reg:absoluteerror',\n",
    "          'eta': 0.3,\n",
    "          'max_depth': 2}"
   ]
  },
  {
   "cell_type": "code",
   "execution_count": 7,
   "metadata": {},
   "outputs": [
    {
     "name": "stdout",
     "output_type": "stream",
     "text": [
      "[0]\tvalidation-mae:0.32366\tvalidation-accuracy:0.64885\n",
      "[1]\tvalidation-mae:0.28908\tvalidation-accuracy:0.81679\n",
      "[2]\tvalidation-mae:0.26536\tvalidation-accuracy:0.81679\n"
     ]
    }
   ],
   "source": [
    "model = xgb.train(params,\n",
    "                  dtrain=dtrain,\n",
    "                  num_boost_round=10,\n",
    "                  evals=[(dvalid, 'validation')],\n",
    "                  early_stopping_rounds=3,\n",
    "                  custom_metric=accuracy)"
   ]
  },
  {
   "cell_type": "code",
   "execution_count": 8,
   "metadata": {},
   "outputs": [
    {
     "data": {
      "text/plain": [
       "0     False\n",
       "1      True\n",
       "2      True\n",
       "3      True\n",
       "4      True\n",
       "5     False\n",
       "6      True\n",
       "7      True\n",
       "8      True\n",
       "9      True\n",
       "10     True\n",
       "11    False\n",
       "12     True\n",
       "13    False\n",
       "14     True\n",
       "15    False\n",
       "16     True\n",
       "17    False\n",
       "18     True\n",
       "19    False\n",
       "Name: survived, dtype: bool"
      ]
     },
     "execution_count": 8,
     "metadata": {},
     "output_type": "execute_result"
    }
   ],
   "source": [
    "predictions = model.predict(dvalid)\n",
    "results = (predictions > 0.5) == dependent_var['validation']\n",
    "results[:20]"
   ]
  },
  {
   "cell_type": "markdown",
   "metadata": {},
   "source": [
    "## Tune Model Hyperparameters"
   ]
  },
  {
   "cell_type": "markdown",
   "metadata": {},
   "source": [
    "### eta"
   ]
  },
  {
   "cell_type": "code",
   "execution_count": 9,
   "metadata": {},
   "outputs": [
    {
     "name": "stdout",
     "output_type": "stream",
     "text": [
      "[0]\tvalidation-mae:0.33282\tvalidation-accuracy:0.64885\n",
      "[1]\tvalidation-mae:0.30626\tvalidation-accuracy:0.64885\n",
      "[2]\tvalidation-mae:0.28525\tvalidation-accuracy:0.64885\n"
     ]
    }
   ],
   "source": [
    "params = {'device': 'cuda',\n",
    "          'objective': 'reg:absoluteerror',\n",
    "          'eta': 0.2,\n",
    "          'max_depth': 2}\n",
    "\n",
    "model = xgb.train(params,\n",
    "                  dtrain=dtrain,\n",
    "                  num_boost_round=10,\n",
    "                  evals=[(dvalid, 'validation')],\n",
    "                  early_stopping_rounds=3,\n",
    "                  custom_metric=accuracy)"
   ]
  },
  {
   "cell_type": "code",
   "execution_count": 10,
   "metadata": {},
   "outputs": [
    {
     "name": "stdout",
     "output_type": "stream",
     "text": [
      "[0]\tvalidation-mae:0.30534\tvalidation-accuracy:0.64885\n",
      "[1]\tvalidation-mae:0.26527\tvalidation-accuracy:0.81679\n",
      "[2]\tvalidation-mae:0.24618\tvalidation-accuracy:0.81679\n",
      "[3]\tvalidation-mae:0.23616\tvalidation-accuracy:0.81679\n"
     ]
    }
   ],
   "source": [
    "params = {'device': 'cuda',\n",
    "          'objective': 'reg:absoluteerror',\n",
    "          'eta': 0.5,\n",
    "          'max_depth': 2}\n",
    "\n",
    "model = xgb.train(params,\n",
    "                  dtrain=dtrain,\n",
    "                  num_boost_round=10,\n",
    "                  evals=[(dvalid, 'validation')],\n",
    "                  early_stopping_rounds=3,\n",
    "                  custom_metric=accuracy)"
   ]
  },
  {
   "cell_type": "code",
   "execution_count": 11,
   "metadata": {},
   "outputs": [
    {
     "name": "stdout",
     "output_type": "stream",
     "text": [
      "[0]\tvalidation-mae:0.29618\tvalidation-accuracy:0.74046\n",
      "[1]\tvalidation-mae:0.25863\tvalidation-accuracy:0.77099\n",
      "[2]\tvalidation-mae:0.24470\tvalidation-accuracy:0.77863\n"
     ]
    }
   ],
   "source": [
    "params = {'device': 'cuda',\n",
    "          'objective': 'reg:absoluteerror',\n",
    "          'eta': 0.6,\n",
    "          'max_depth': 2}\n",
    "\n",
    "model = xgb.train(params,\n",
    "                  dtrain=dtrain,\n",
    "                  num_boost_round=10,\n",
    "                  evals=[(dvalid, 'validation')],\n",
    "                  early_stopping_rounds=3,\n",
    "                  custom_metric=accuracy)"
   ]
  },
  {
   "cell_type": "markdown",
   "metadata": {},
   "source": [
    "`eta = 0.5` maintains accuracy while minimising the loss."
   ]
  },
  {
   "cell_type": "markdown",
   "metadata": {},
   "source": [
    "### max_depth"
   ]
  },
  {
   "cell_type": "code",
   "execution_count": 12,
   "metadata": {},
   "outputs": [
    {
     "name": "stdout",
     "output_type": "stream",
     "text": [
      "[0]\tvalidation-mae:0.29771\tvalidation-accuracy:0.64885\n",
      "[1]\tvalidation-mae:0.28435\tvalidation-accuracy:0.81679\n",
      "[2]\tvalidation-mae:0.27099\tvalidation-accuracy:0.75572\n",
      "[3]\tvalidation-mae:0.26431\tvalidation-accuracy:0.75572\n"
     ]
    }
   ],
   "source": [
    "params = {'device': 'cuda',\n",
    "          'objective': 'reg:absoluteerror',\n",
    "          'eta': 0.5,\n",
    "          'max_depth': 1}\n",
    "\n",
    "model = xgb.train(params,\n",
    "                  dtrain=dtrain,\n",
    "                  num_boost_round=10,\n",
    "                  evals=[(dvalid, 'validation')],\n",
    "                  early_stopping_rounds=3,\n",
    "                  custom_metric=accuracy)"
   ]
  },
  {
   "cell_type": "code",
   "execution_count": 13,
   "metadata": {},
   "outputs": [
    {
     "name": "stdout",
     "output_type": "stream",
     "text": [
      "[0]\tvalidation-mae:0.28626\tvalidation-accuracy:0.64885\n",
      "[1]\tvalidation-mae:0.25382\tvalidation-accuracy:0.80153\n",
      "[2]\tvalidation-mae:0.22805\tvalidation-accuracy:0.83206\n",
      "[3]\tvalidation-mae:0.22376\tvalidation-accuracy:0.77863\n"
     ]
    }
   ],
   "source": [
    "params = {'device': 'cuda',\n",
    "          'objective': 'reg:absoluteerror',\n",
    "          'eta': 0.5,\n",
    "          'max_depth': 3}\n",
    "\n",
    "model = xgb.train(params,\n",
    "                  dtrain=dtrain,\n",
    "                  num_boost_round=10,\n",
    "                  evals=[(dvalid, 'validation')],\n",
    "                  early_stopping_rounds=3,\n",
    "                  custom_metric=accuracy)"
   ]
  },
  {
   "cell_type": "code",
   "execution_count": 14,
   "metadata": {},
   "outputs": [
    {
     "name": "stdout",
     "output_type": "stream",
     "text": [
      "[0]\tvalidation-mae:0.29008\tvalidation-accuracy:0.64885\n",
      "[1]\tvalidation-mae:0.25382\tvalidation-accuracy:0.78626\n",
      "[2]\tvalidation-mae:0.23569\tvalidation-accuracy:0.78626\n"
     ]
    }
   ],
   "source": [
    "params = {'device': 'cuda',\n",
    "          'objective': 'reg:absoluteerror',\n",
    "          'eta': 0.5,\n",
    "          'max_depth': 4}\n",
    "\n",
    "model = xgb.train(params,\n",
    "                  dtrain=dtrain,\n",
    "                  num_boost_round=10,\n",
    "                  evals=[(dvalid, 'validation')],\n",
    "                  early_stopping_rounds=3,\n",
    "                  custom_metric=accuracy)"
   ]
  },
  {
   "cell_type": "markdown",
   "metadata": {},
   "source": [
    "`max_depth = 3` with `num_boost_round=3` gives the best accuracy and loss."
   ]
  },
  {
   "cell_type": "markdown",
   "metadata": {},
   "source": [
    "### Final Model"
   ]
  },
  {
   "cell_type": "code",
   "execution_count": 15,
   "metadata": {},
   "outputs": [
    {
     "name": "stdout",
     "output_type": "stream",
     "text": [
      "[0]\tvalidation-mae:0.28626\tvalidation-accuracy:0.64885\n",
      "[1]\tvalidation-mae:0.25382\tvalidation-accuracy:0.80153\n",
      "[2]\tvalidation-mae:0.22805\tvalidation-accuracy:0.83206\n"
     ]
    }
   ],
   "source": [
    "params = {'device': 'cuda',\n",
    "          'objective': 'reg:absoluteerror',\n",
    "          'eta': 0.5,\n",
    "          'max_depth': 3}\n",
    "\n",
    "model = xgb.train(params,\n",
    "                  dtrain=dtrain,\n",
    "                  num_boost_round=3,\n",
    "                  evals=[(dvalid, 'validation')],\n",
    "                  custom_metric=accuracy)"
   ]
  },
  {
   "cell_type": "code",
   "execution_count": 16,
   "metadata": {},
   "outputs": [
    {
     "data": {
      "text/plain": [
       "<Axes: >"
      ]
     },
     "execution_count": 16,
     "metadata": {},
     "output_type": "execute_result"
    },
    {
     "data": {
      "image/png": "[encoded data removed]",
      "text/plain": [
       "<Figure size 640x480 with 1 Axes>"
      ]
     },
     "metadata": {},
     "output_type": "display_data"
    }
   ],
   "source": [
    "xgb.plot_tree(model)"
   ]
  },
  {
   "cell_type": "code",
   "execution_count": 17,
   "metadata": {},
   "outputs": [
    {
     "data": {
      "text/plain": [
       "<Axes: title={'center': 'Feature importance'}, xlabel='F score', ylabel='Features'>"
      ]
     },
     "execution_count": 17,
     "metadata": {},
     "output_type": "execute_result"
    },
    {
     "data": {
      "image/png": "[encoded data removed]",
      "text/plain": [
       "<Figure size 640x480 with 1 Axes>"
      ]
     },
     "metadata": {},
     "output_type": "display_data"
    }
   ],
   "source": [
    "xgb.plot_importance(model)"
   ]
  },
  {
   "cell_type": "code",
   "execution_count": null,
   "metadata": {},
   "outputs": [],
   "source": []
  }
 ],
 "metadata": {
  "kernelspec": {
   "display_name": "Python 3 (ipykernel)",
   "language": "python",
   "name": "python3"
  },
  "language_info": {
   "codemirror_mode": {
    "name": "ipython",
    "version": 3
   },
   "file_extension": ".py",
   "mimetype": "text/x-python",
   "name": "python",
   "nbconvert_exporter": "python",
   "pygments_lexer": "ipython3",
   "version": "3.10.12"
  }
 },
 "nbformat": 4,
 "nbformat_minor": 2
}
